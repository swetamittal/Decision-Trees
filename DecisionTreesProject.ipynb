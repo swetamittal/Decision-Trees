{
 "cells": [
  {
   "cell_type": "code",
   "execution_count": 1,
   "metadata": {},
   "outputs": [],
   "source": [
    "from sklearn import datasets\n",
    "import numpy as np\n",
    "import pandas as pd"
   ]
  },
  {
   "cell_type": "code",
   "execution_count": 2,
   "metadata": {},
   "outputs": [],
   "source": [
    "iris=datasets.load_iris()\n",
    "x=iris.data\n",
    "y=iris.target"
   ]
  },
  {
   "cell_type": "code",
   "execution_count": 3,
   "metadata": {},
   "outputs": [],
   "source": [
    "#spliting data into training and testing\n",
    "\n",
    "from sklearn.model_selection import train_test_split\n",
    "x_train,x_test,y_train,y_test=train_test_split(x,y,random_state=1)"
   ]
  },
  {
   "cell_type": "code",
   "execution_count": 4,
   "metadata": {},
   "outputs": [],
   "source": [
    "d1=np.c_[x_train,y_train]\n",
    "df=pd.DataFrame(d1,columns=['sepal_length','sepal_width','petal_length','petal_width','answer'])"
   ]
  },
  {
   "cell_type": "code",
   "execution_count": 5,
   "metadata": {},
   "outputs": [
    {
     "data": {
      "text/plain": [
       "Index(['sepal_length', 'sepal_width', 'petal_length', 'petal_width', 'answer'], dtype='object')"
      ]
     },
     "execution_count": 5,
     "metadata": {},
     "output_type": "execute_result"
    }
   ],
   "source": [
    "df.columns"
   ]
  },
  {
   "cell_type": "code",
   "execution_count": 21,
   "metadata": {},
   "outputs": [],
   "source": [
    "t=np.c_[x_test,y_test]\n",
    "df_test=pd.DataFrame(t,columns=['sepal_length','sepal_width','petal_length','petal_width','answer'])"
   ]
  },
  {
   "cell_type": "code",
   "execution_count": 6,
   "metadata": {},
   "outputs": [],
   "source": [
    "#if leaf_node is reached\n",
    "\n",
    "def check_purity(data):\n",
    "    label=data[:,-1]\n",
    "    classes=np.unique(label)\n",
    "    if len(classes)==1:\n",
    "        return True\n",
    "    else:\n",
    "        return False"
   ]
  },
  {
   "cell_type": "code",
   "execution_count": 7,
   "metadata": {},
   "outputs": [],
   "source": [
    "#for finding majority at a given stage(if stopping atmaximum depth is done)\n",
    "\n",
    "def classify_data(data):\n",
    "    label=data[:,-1]\n",
    "    classes,counts=np.unique(data,return_counts=True)\n",
    "    i=counts.argmax()\n",
    "    c=classes[i]\n",
    "    return c"
   ]
  },
  {
   "cell_type": "code",
   "execution_count": 8,
   "metadata": {},
   "outputs": [
    {
     "data": {
      "text/plain": [
       "1.0"
      ]
     },
     "execution_count": 8,
     "metadata": {},
     "output_type": "execute_result"
    }
   ],
   "source": [
    "\n",
    "#trial for unique function\n",
    "classes,counts=np.unique(df.values[:,-1],return_counts=True)\n",
    "len(counts)\n",
    "classes[1]"
   ]
  },
  {
   "cell_type": "code",
   "execution_count": 9,
   "metadata": {},
   "outputs": [],
   "source": [
    "#for dividing data  \n",
    "\n",
    "def split_data(data,split_column,split_value):\n",
    "    values=data[:,split_column]\n",
    "    data_below=data[values<=split_value]\n",
    "    data_above=data[values>split_value]\n",
    "    \n",
    "    \n",
    "    return data_below,data_above"
   ]
  },
  {
   "cell_type": "code",
   "execution_count": 11,
   "metadata": {},
   "outputs": [],
   "source": [
    "#for calculating entropy at a given level\n",
    "\n",
    "def cal_entropy(data):\n",
    "    label=data[:,-1]\n",
    "    classes,counts=np.unique(data,return_counts=True)\n",
    "    total=sum(counts)\n",
    "    p=counts/total\n",
    "    entropy=sum(p*(-np.log2(p)))\n",
    "    \n",
    "    return entropy\n",
    "    \n"
   ]
  },
  {
   "cell_type": "code",
   "execution_count": 25,
   "metadata": {},
   "outputs": [],
   "source": [
    "#for calculating total entropy obtained after spliting data\n",
    "\n",
    "def total_entropy(data_below,data_above):\n",
    "    total=len(data_below)+len(data_above)\n",
    "    p_below=len(data_below)/total\n",
    "    p_above=len(data_above)/total\n",
    "    t_entropy=p_below*cal_entropy(data_below)+p_above*cal_entropy(data_above)\n",
    "    \n",
    "    return t_entropy"
   ]
  },
  {
   "cell_type": "code",
   "execution_count": 13,
   "metadata": {},
   "outputs": [
    {
     "data": {
      "text/plain": [
       "5.114165214165116"
      ]
     },
     "execution_count": 13,
     "metadata": {},
     "output_type": "execute_result"
    }
   ],
   "source": [
    "#testng individual performance of functions\n",
    "a,b=split_data(df.values,3,0.8)\n",
    "total_entropy(a,b)\n"
   ]
  },
  {
   "cell_type": "code",
   "execution_count": 14,
   "metadata": {},
   "outputs": [],
   "source": [
    "#for finding probable values on which split is possible\n",
    "\n",
    "def splits(data):\n",
    "    s={}\n",
    "    n=data.shape[1]\n",
    "    for index in range(n-1):\n",
    "        s[index]=[]\n",
    "        values=data[:,index]\n",
    "        unique_values=np.unique(values)\n",
    "        \n",
    "        for i in range(len(unique_values)):\n",
    "            if i!=0:\n",
    "                prev=unique_values[i-1]\n",
    "                current=unique_values[i]\n",
    "                split=(prev+current)/2\n",
    "                s[index].append(split)\n",
    "            \n",
    "    return s"
   ]
  },
  {
   "cell_type": "code",
   "execution_count": 15,
   "metadata": {},
   "outputs": [],
   "source": [
    "#finding best split value out of all probable values of split\n",
    "\n",
    "def best_split(data,split):\n",
    "    e=100000\n",
    "    for index in split:\n",
    "        for values in split[index]:\n",
    "            data_below,data_above=split_data(data,split_column=index,split_value=values)\n",
    "            t_entropy=total_entropy(data_below,data_above)\n",
    "            if t_entropy<=e:\n",
    "                e=t_entropy\n",
    "                split_column=index\n",
    "                split_value=values\n",
    "    \n",
    "    \n",
    "    return split_column,split_value"
   ]
  },
  {
   "cell_type": "code",
   "execution_count": 16,
   "metadata": {},
   "outputs": [
    {
     "data": {
      "text/plain": [
       "(3, 0.8)"
      ]
     },
     "execution_count": 16,
     "metadata": {},
     "output_type": "execute_result"
    }
   ],
   "source": [
    "#testng individual performance of functions\n",
    "s=splits(df.values)\n",
    "best_split(df.values,s)"
   ]
  },
  {
   "cell_type": "code",
   "execution_count": 17,
   "metadata": {},
   "outputs": [],
   "source": [
    "#combinig and building final tree\n",
    "\n",
    "def decision_tree(df,counter=0,min_samples=5,max_depth=5):\n",
    "    #level_no+=1\n",
    "    if counter==0:\n",
    "        global column_names\n",
    "        column_names=df.columns\n",
    "        data=df.values\n",
    "    else:\n",
    "        data=df\n",
    "    #data=np.c_[x_train,y_train]\n",
    "    #base_case\n",
    "    if (check_purity(data))or (len(data)<min_samples)or(counter==max_depth):\n",
    "        \n",
    "        #print(\"Leaf Node Reached\")\n",
    "        #print(\" Current Entropy is:\",entropy(data))\n",
    "        c=classify_data(data)\n",
    "        return c\n",
    "    else:\n",
    "        counter+=1\n",
    "        #recursion\n",
    "        potential_splits=splits(data)\n",
    "        best_split_column,best_split_value=best_split(data,potential_splits)\n",
    "        data_below,data_above=split_data(data,best_split_column,best_split_value)\n",
    "        \n",
    "        feature_name=column_names[best_split_column]\n",
    "        question=\"{} <= {}\".format(feature_name,best_split_value)\n",
    "        print(question)\n",
    "        sub_tree={question:[]}\n",
    "        #print(question)\n",
    "        yes_answer=decision_tree(data_below,counter,min_samples,max_depth)\n",
    "        c,counts=np.unique(data_below[:,-1],return_counts=True)\n",
    "        print(\"level\",counter)\n",
    "        for i in range(len(counts)):\n",
    "            print(\"Count of \",c[i],counts[i])\n",
    "            \n",
    "        print(\"Level done \")\n",
    "        \n",
    "        print(\"Current Entropy is:\",total_entropy(data_below,data_above))\n",
    "        no_answer=decision_tree(data_above,counter,min_samples,max_depth)\n",
    "        sub_tree[question].append(yes_answer)\n",
    "        sub_tree[question].append(no_answer)\n",
    "        \n",
    "    return sub_tree\n",
    "        "
   ]
  },
  {
   "cell_type": "code",
   "execution_count": 18,
   "metadata": {},
   "outputs": [
    {
     "name": "stdout",
     "output_type": "stream",
     "text": [
      "petal_width <= 0.8\n",
      "level 1\n",
      "Count of  0.0 37\n",
      "Level done \n",
      "Current Entropy is: 5.114165214165116\n",
      "petal_width <= 1.55\n",
      "sepal_length <= 5.95\n",
      "level 3\n",
      "Count of  1.0 16\n",
      "Level done \n",
      "Current Entropy is: 4.488996248524277\n",
      "sepal_width <= 2.8499999999999996\n",
      "petal_width <= 1.45\n",
      "level 5\n",
      "Count of  1.0 4\n",
      "Count of  2.0 1\n",
      "Level done \n",
      "Current Entropy is: 3.724372820753982\n",
      "level 4\n",
      "Count of  1.0 7\n",
      "Count of  2.0 3\n",
      "Level done \n",
      "Current Entropy is: 4.11306755882944\n",
      "level 2\n",
      "Count of  1.0 31\n",
      "Count of  2.0 3\n",
      "Level done \n",
      "Current Entropy is: 4.975898484152247\n",
      "petal_width <= 1.95\n",
      "sepal_length <= 6.05\n",
      "sepal_length <= 5.85\n",
      "level 5\n",
      "Count of  2.0 3\n",
      "Level done \n",
      "Current Entropy is: 3.3920053417460503\n",
      "level 4\n",
      "Count of  1.0 3\n",
      "Count of  2.0 5\n",
      "Level done \n",
      "Current Entropy is: 4.09114941838866\n",
      "level 3\n",
      "Count of  1.0 3\n",
      "Count of  2.0 16\n",
      "Level done \n",
      "Current Entropy is: 4.5555525194416076\n"
     ]
    }
   ],
   "source": [
    "tree=decision_tree(df)  \n",
    "#entropy might seem to be in random order but actually it is getting decreased if checked levelwise"
   ]
  },
  {
   "cell_type": "code",
   "execution_count": 19,
   "metadata": {},
   "outputs": [],
   "source": [
    "#for finding classes of unknown samples\n",
    "\n",
    "def predict(tree,sample):\n",
    "    \n",
    "    question=list(tree.keys())[0]\n",
    "    feature_value,operator,value=question.split()\n",
    "    if sample[feature_value]<=float(value):\n",
    "        answer=tree[question][0]\n",
    "    else:\n",
    "        answer=tree[question][1]\n",
    "        \n",
    "    if not isinstance(answer,dict):\n",
    "        \n",
    "        return answer\n",
    "    else:\n",
    "        remaining_tree=answer\n",
    "        return predict(remaining_tree,sample)\n",
    "     "
   ]
  },
  {
   "cell_type": "code",
   "execution_count": 22,
   "metadata": {},
   "outputs": [
    {
     "name": "stdout",
     "output_type": "stream",
     "text": [
      "sepal_length    7.9\n",
      "sepal_width     3.8\n",
      "petal_length    6.4\n",
      "petal_width     2.0\n",
      "answer          2.0\n",
      "Name: 4, dtype: float64\n"
     ]
    },
    {
     "data": {
      "text/plain": [
       "2.0"
      ]
     },
     "execution_count": 22,
     "metadata": {},
     "output_type": "execute_result"
    }
   ],
   "source": [
    "#testng individual performance of functions\n",
    "s1=df_test.iloc[4]\n",
    "print(s1)\n",
    "predict(tree,s1)"
   ]
  },
  {
   "cell_type": "code",
   "execution_count": 23,
   "metadata": {},
   "outputs": [],
   "source": [
    "#for calculating accuracy\n",
    "def score(df,tree):\n",
    "    pred=[]\n",
    "    for i in range(len(df)):\n",
    "        y_pred=predict(tree,df.iloc[i])\n",
    "        pred.append(y_pred)\n",
    "    acc=df.iloc[:,-1]==pred\n",
    "    score=acc.mean()\n",
    "    return score"
   ]
  },
  {
   "cell_type": "code",
   "execution_count": 24,
   "metadata": {},
   "outputs": [
    {
     "data": {
      "text/plain": [
       "0.9473684210526315"
      ]
     },
     "execution_count": 24,
     "metadata": {},
     "output_type": "execute_result"
    }
   ],
   "source": [
    "s=score(df_test,tree)\n",
    "s"
   ]
  },
  {
   "cell_type": "code",
   "execution_count": null,
   "metadata": {},
   "outputs": [],
   "source": []
  }
 ],
 "metadata": {
  "kernelspec": {
   "display_name": "Python 3",
   "language": "python",
   "name": "python3"
  },
  "language_info": {
   "codemirror_mode": {
    "name": "ipython",
    "version": 3
   },
   "file_extension": ".py",
   "mimetype": "text/x-python",
   "name": "python",
   "nbconvert_exporter": "python",
   "pygments_lexer": "ipython3",
   "version": "3.7.1"
  }
 },
 "nbformat": 4,
 "nbformat_minor": 2
}
